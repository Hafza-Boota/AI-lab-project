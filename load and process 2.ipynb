{
  "nbformat": 4,
  "nbformat_minor": 0,
  "metadata": {
    "colab": {
      "provenance": []
    },
    "kernelspec": {
      "name": "python3",
      "display_name": "Python 3"
    },
    "language_info": {
      "name": "python"
    }
  },
  "cells": [
    {
      "cell_type": "code",
      "execution_count": null,
      "metadata": {
        "id": "PEQQcWwPcUgG"
      },
      "outputs": [],
      "source": [
        "# Import necessary libraries\n",
        "import pandas as pd\n",
        "import numpy as np\n",
        "import matplotlib.pyplot as plt\n",
        "import seaborn as sns\n",
        "\n",
        "# Load the dataset\n",
        "file_path = '/mnt/data/marketing_campaign.csv'\n",
        "data = pd.read_csv(file_path)\n",
        "\n",
        "# Display the first few rows of the dataset\n",
        "data.head()\n"
      ]
    },
    {
      "cell_type": "markdown",
      "source": [
        "data processing"
      ],
      "metadata": {
        "id": "tnafnpMecrnV"
      }
    },
    {
      "cell_type": "code",
      "source": [
        "# Check for missing values\n",
        "data.isnull().sum()\n",
        "\n",
        "# Handling missing values (if any)\n",
        "# For simplicity, we'll drop rows with missing values\n",
        "data = data.dropna()\n",
        "\n",
        "# Convert categorical columns to numeric using one-hot encoding\n",
        "data = pd.get_dummies(data, drop_first=True)\n",
        "\n",
        "# Display the first few rows after preprocessing\n",
        "data.head()\n"
      ],
      "metadata": {
        "id": "DhVhQyNWcinF"
      },
      "execution_count": null,
      "outputs": []
    }
  ]
}