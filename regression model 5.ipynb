{
  "nbformat": 4,
  "nbformat_minor": 0,
  "metadata": {
    "colab": {
      "provenance": []
    },
    "kernelspec": {
      "name": "python3",
      "display_name": "Python 3"
    },
    "language_info": {
      "name": "python"
    }
  },
  "cells": [
    {
      "cell_type": "code",
      "execution_count": null,
      "metadata": {
        "id": "PEQQcWwPcUgG"
      },
      "outputs": [],
      "source": [
        "# Import necessary libraries\n",
        "import pandas as pd\n",
        "import numpy as np\n",
        "import matplotlib.pyplot as plt\n",
        "import seaborn as sns\n",
        "\n",
        "# Load the dataset\n",
        "file_path = '/mnt/data/marketing_campaign.csv'\n",
        "data = pd.read_csv(file_path)\n",
        "\n",
        "# Display the first few rows of the dataset\n",
        "data.head()\n"
      ]
    },
    {
      "cell_type": "markdown",
      "source": [
        "data processing"
      ],
      "metadata": {
        "id": "tnafnpMecrnV"
      }
    },
    {
      "cell_type": "code",
      "source": [
        "# Check for missing values\n",
        "data.isnull().sum()\n",
        "\n",
        "# Handling missing values (if any)\n",
        "# For simplicity, we'll drop rows with missing values\n",
        "data = data.dropna()\n",
        "\n",
        "# Convert categorical columns to numeric using one-hot encoding\n",
        "data = pd.get_dummies(data, drop_first=True)\n",
        "\n",
        "# Display the first few rows after preprocessing\n",
        "data.head()\n"
      ],
      "metadata": {
        "id": "DhVhQyNWcinF"
      },
      "execution_count": null,
      "outputs": []
    },
    {
      "cell_type": "markdown",
      "source": [
        "train - test model"
      ],
      "metadata": {
        "id": "bN3lu86FdsnE"
      }
    },
    {
      "cell_type": "code",
      "source": [
        "from sklearn.model_selection import train_test_split\n",
        "\n",
        "# Assuming 'target' is the name of the target column in your dataset\n",
        "X = data.drop('target', axis=1)\n",
        "y = data['target']\n",
        "\n",
        "# Split the data into training and testing sets\n",
        "X_train, X_test, y_train, y_test = train_test_split(X, y, test_size=0.3, random_state=42)\n",
        "\n",
        "# Display the shapes of the train and test sets\n",
        "X_train.shape, X_test.shape, y_train.shape, y_test.shape\n"
      ],
      "metadata": {
        "id": "220APkrrdzhI"
      },
      "execution_count": null,
      "outputs": []
    },
    {
      "cell_type": "code",
      "source": [
        "# Import necessary libraries for evaluation\n",
        "from sklearn.metrics import accuracy_score, precision_score, recall_score, f1_score, mean_squared_error, mean_absolute_error\n",
        "\n",
        "# Function to evaluate classification models\n",
        "def evaluate_classification_model(model, X_train, y_train, X_test, y_test):\n",
        "    model.fit(X_train, y_train)\n",
        "    y_pred = model.predict(X_test)\n",
        "    accuracy = accuracy_score(y_test, y_pred)\n",
        "    precision = precision_score(y_test, y_pred, average='weighted')\n",
        "    recall = recall_score(y_test, y_pred, average='weighted')\n",
        "    f1 = f1_score(y_test, y_pred, average='weighted')\n",
        "    return accuracy, precision, recall, f1\n",
        "\n",
        "# Function to evaluate regression models\n",
        "def evaluate_regression_model(model, X_train, y_train, X_test, y_test):\n",
        "    model.fit(X_train, y_train)\n",
        "    y_pred = model.predict(X_test)\n",
        "    rmse = np.sqrt(mean_squared_error(y_test, y_pred))\n",
        "    mae = mean_absolute_error(y_test, y_pred)\n",
        "    return rmse, mae\n",
        "\n",
        "# List of models to evaluate\n",
        "from sklearn.linear_model import LogisticRegression, LinearRegression\n",
        "from sklearn.ensemble import RandomForestClassifier, RandomForestRegressor\n",
        "from sklearn.svm import SVC, SVR\n",
        "from sklearn.neighbors import KNeighborsClassifier, KNeighborsRegressor\n",
        "\n",
        "classification_models = {\n",
        "    \"Logistic Regression\": LogisticRegression(),\n",
        "    \"Random Forest Classifier\": RandomForestClassifier(),\n",
        "    \"Support Vector Classifier\": SVC(),\n",
        "    \"K-Nearest Neighbors Classifier\": KNeighborsClassifier()\n",
        "}\n",
        "\n",
        "\n",
        "# Evaluate all classification models\n",
        "classification_results = {}\n",
        "for name, model in classification_models.items():\n",
        "    accuracy, precision, recall, f1 = evaluate_classification_model(model, X_train, y_train, X_test, y_test)\n",
        "    classification_results[name] = [accuracy, precision, recall, f1]\n",
        "\n",
        "\n",
        "\n",
        "# Display the results\n",
        "print(\"Classification Results:\")\n",
        "print(pd.DataFrame(classification_results, index=[\"Accuracy\", \"Precision\", \"Recall\", \"F1-Score\"]))\n",
        "\n"
      ],
      "metadata": {
        "id": "8QlTV1KRf2-b"
      },
      "execution_count": null,
      "outputs": []
    },
    {
      "cell_type": "markdown",
      "source": [
        "regression model"
      ],
      "metadata": {
        "id": "2XijsHLhhjoq"
      }
    },
    {
      "cell_type": "code",
      "source": [
        "# List of models to evaluate\n",
        "from sklearn.linear_model import LogisticRegression, LinearRegression\n",
        "from sklearn.ensemble import RandomForestClassifier, RandomForestRegressor\n",
        "from sklearn.svm import SVC, SVR\n",
        "from sklearn.neighbors import KNeighborsClassifier, KNeighborsRegressor\n",
        "\n",
        "\n",
        "regression_models = {\n",
        "    \"Linear Regression\": LinearRegression(),\n",
        "    \"Random Forest Regressor\": RandomForestRegressor(),\n",
        "    \"Support Vector Regressor\": SVR(),\n",
        "    \"K-Nearest Neighbors Regressor\": KNeighborsRegressor()\n",
        "\n",
        "    # Evaluate all regression models\n",
        "regression_results = {}\n",
        "for name, model in regression_models.items():\n",
        "    rmse, mae = evaluate_regression_model(model, X_train, y_train, X_test, y_test)\n",
        "    regression_results[name] = [rmse, mae]\n",
        "\n",
        "\n",
        "    print(\"\\nRegression Results:\")\n",
        "print(pd.DataFrame(regression_results, index=[\"RMSE\", \"MAE\"]))\n"
      ],
      "metadata": {
        "id": "dV5bJkr9hmhX"
      },
      "execution_count": null,
      "outputs": []
    }
  ]
}